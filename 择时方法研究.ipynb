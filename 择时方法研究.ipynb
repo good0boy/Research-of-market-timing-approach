{
 "cells": [
  {
   "cell_type": "markdown",
   "metadata": {},
   "source": [
    "### RSRS择时实现代码："
   ]
  },
  {
   "cell_type": "code",
   "execution_count": 1,
   "metadata": {},
   "outputs": [],
   "source": [
    "#初始化函数 \n",
    "def initialize(context):\n",
    "    set_benchmark('000300.XSHG')\n",
    "    # 用真实价格交易\n",
    "    set_option('use_real_price', True)\n",
    "    # 打开防未来函数\n",
    "    set_option(\"avoid_future_data\", True)\n",
    "    # 将滑点设置为0\n",
    "    set_slippage(FixedSlippage(0))\n",
    "    # 设置交易成本万分之三\n",
    "    set_order_cost(OrderCost(open_tax=0, close_tax=0.001, open_commission=0.0003, close_commission=0.0003, close_today_commission=0, min_commission=5),type='fund')\n",
    "    # 过滤order中低于error级别的日志\n",
    "    log.set_level('order', 'error')\n",
    "    #选股参数\n",
    "    g.stock_num = 4 #持仓数\n",
    "    # 设置交易时间，每天运行\n",
    "    g.ref_stock = '000300.XSHG' #用ref_stock做择时计算的基础数据,上证\n",
    "    g.N = 18 # 计算最新斜率slope，拟合度r2参考最近N天\n",
    "    g.M = 600 # 计算最新标准分zscore，rsrs_score参考最近M天\n",
    "    g.score_threshold = 0.7 # rsrs标准分指标阈值\n",
    "    g.mean_day = 30 #计算结束ma收盘价，参考最近mean_day\n",
    "    g.mean_diff_day = 2 #计算初始ma收盘价，参考(mean_day + mean_diff_day)天前，窗口为mean_diff_day的一段时间\n",
    "    g.slope_series = initial_slope_series()[:-1] # 除去回测第一天的slope，避免运行时重复加入\n",
    "    g.sold_stock = {}\n",
    "    g.buy_again = 5\n",
    "    #原版是每周调仓一次\n",
    "    #run_weekly(my_trade, weekday=1, time='9:30', reference_security='000300.XSHG')\n",
    "    #run_daily(before_trade, time='00:01',reference_security='000300.XSHG')\n",
    "    #run_daily(before_market_open, time='before_open', reference_security='000300.XSHG')\n",
    "    #run_daily(buy, time='every_bar', reference_security='000300.XSHG')\n",
    "    #run_daily(sell, time='every_bar', reference_security='000300.XSHG')"
   ]
  },
  {
   "cell_type": "code",
   "execution_count": 2,
   "metadata": {},
   "outputs": [],
   "source": [
    "# 最小二乘拟合\n",
    "def get_ols(x, y):\n",
    "    slope, intercept = np.polyfit(x, y, 1)\n",
    "    r2 = 1 - (sum((y - (slope * x + intercept))**2) / ((len(y) - 1) * np.var(y, ddof=1)))\n",
    "    return (intercept, slope, r2) # r2为这里的决定系数\n",
    "\n",
    "def initial_slope_series():\n",
    "    data = attribute_history(g.ref_stock, g.N + g.M, '1d', ['high', 'low'])\n",
    "    return [get_ols(data.low[i:i+g.N], data.high[i:i+g.N])[1] for i in range(g.M)]\n",
    "\n",
    "# 因子标准化\n",
    "def get_zscore(slope_series):\n",
    "    mean = np.mean(slope_series)\n",
    "    std = np.std(slope_series)\n",
    "    return (slope_series[-1] - mean) / std\n",
    "\n",
    "# 只看RSRS因子值作为买入、持有和清仓依据，前版本还加入了移动均线的上行作为条件\n",
    "def get_timing_signal(context,stock):\n",
    "    g.mean_diff_day = 5\n",
    "    # 30+5 天\n",
    "    close_data = attribute_history(g.ref_stock, g.mean_day + g.mean_diff_day, '1d', ['close'])\n",
    "    high_low_data = attribute_history(g.ref_stock, g.N, '1d', ['high', 'low'])\n",
    "    close_data_001 = get_bars('000001.XSHG', 10, '1d', 'close', include_now=True)['close']\n",
    "    price_now = get_bars('000001.XSHG', 1, '1m', 'close', include_now=True)['close']\n",
    "    ma_old = close_data_001.mean()\n",
    "\n",
    "    # 这两句同上面的功能相同，愿意测试的可以试试，与avoid_future_data相互矛盾，只能取二者中的一个\n",
    "    # close_data = get_price(g.ref_stock, end_date=context.current_dt-datetime.timedelta(1),count=g.mean_day + g.mean_diff_day,fields=['close'])\n",
    "    # high_low_data = get_price(g.ref_stock, end_date=context.current_dt-datetime.timedelta(1),count=g.N, fields=['high', 'low'])\n",
    "\n",
    "    intercept, slope, r2 = get_ols(high_low_data.low, high_low_data.high)\n",
    "    g.slope_series.append(slope)\n",
    "    rsrs_score = get_zscore(g.slope_series[-g.M:]) * r2\n",
    "    if rsrs_score > g.score_threshold: return \"BUY\"\n",
    "    elif rsrs_score < -g.score_threshold or  price_now <= ma_old*1.002 : return \"SELL\"#close_data_001[-1]\n",
    "    else: return \"KEEP\""
   ]
  },
  {
   "cell_type": "markdown",
   "metadata": {},
   "source": [
    "### 大盘均线择时实现代码："
   ]
  },
  {
   "cell_type": "code",
   "execution_count": null,
   "metadata": {},
   "outputs": [],
   "source": [
    "def get_siginal(context):\n",
    "    #或者用当前日和昨日的5日均线值来比较，作为是否买入的信号\n",
    "    close_data_5 = get_bars('000001.XSHG', 5, '1d', 'close', include_now=True)['close']\n",
    "    price_open = get_bars('000001.XSHG', 1, '1d', 'open', include_now=True)['open']\n",
    "    price_now = get_bars('000001.XSHG', 1, '1m', 'close', include_now=True)['close']\n",
    "    #if price_now < close_data_5.mean() and price_now < close_data_10.mean():\n",
    "    #close_today_3 = get_bars('000001.XSHG', 3, '1d', 'close', include_now=True)['close']\n",
    "    #close_yesterday_3 = get_bars('000001.XSHG', 3, '1d', 'close', include_now=False)['close']\n",
    "    if price_now > price_open:\n",
    "        return 'buy'\n",
    "    elif price_now > close_data_5.mean():\n",
    "        return 'buy'\n",
    "    elif price_open < close_data_5.mean():\n",
    "        return 'sell'\n",
    "    return 'keep'"
   ]
  }
 ],
 "metadata": {
  "kernelspec": {
   "display_name": "Python 3 (ipykernel)",
   "language": "python",
   "name": "python3"
  },
  "language_info": {
   "codemirror_mode": {
    "name": "ipython",
    "version": 3
   },
   "file_extension": ".py",
   "mimetype": "text/x-python",
   "name": "python",
   "nbconvert_exporter": "python",
   "pygments_lexer": "ipython3",
   "version": "3.9.12"
  },
  "toc": {
   "base_numbering": 1,
   "nav_menu": {},
   "number_sections": false,
   "sideBar": true,
   "skip_h1_title": false,
   "title_cell": "MarkDown菜单",
   "title_sidebar": "Contents",
   "toc_cell": false,
   "toc_position": {},
   "toc_section_display": true,
   "toc_window_display": false
  }
 },
 "nbformat": 4,
 "nbformat_minor": 2
}
